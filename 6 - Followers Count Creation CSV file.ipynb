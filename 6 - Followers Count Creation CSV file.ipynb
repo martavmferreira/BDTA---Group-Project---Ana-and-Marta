{
 "cells": [
  {
   "cell_type": "code",
   "execution_count": 1,
   "id": "7e16516d",
   "metadata": {},
   "outputs": [
    {
     "name": "stdout",
     "output_type": "stream",
     "text": [
      "The account 'nos_alive' has 161421 followers.\n"
     ]
    }
   ],
   "source": [
    "from instaloader import Instaloader, Profile\n",
    "\n",
    "loader = Instaloader()\n",
    "\n",
    "profile = Profile.from_username(loader.context, 'nos_alive')\n",
    "\n",
    "num_followers = profile.followers\n",
    "\n",
    "print(f\"The account '{profile.username}' has {num_followers} followers.\")"
   ]
  },
  {
   "cell_type": "code",
   "execution_count": 19,
   "id": "ce4fd930",
   "metadata": {},
   "outputs": [
    {
     "name": "stdout",
     "output_type": "stream",
     "text": [
      "The account 'rockinriolisboa' has 228533 followers.\n"
     ]
    }
   ],
   "source": [
    "from instaloader import Instaloader, Profile\n",
    "\n",
    "loader = Instaloader()\n",
    "\n",
    "profile = Profile.from_username(loader.context, 'rockinriolisboa')\n",
    "\n",
    "num_followers = profile.followers\n",
    "\n",
    "print(f\"The account '{profile.username}' has {num_followers} followers.\")"
   ]
  },
  {
   "cell_type": "code",
   "execution_count": 20,
   "id": "01aa72fd",
   "metadata": {},
   "outputs": [
    {
     "name": "stdout",
     "output_type": "stream",
     "text": [
      "The account 'festivalsudoeste' has 98165 followers.\n"
     ]
    }
   ],
   "source": [
    "from instaloader import Instaloader, Profile\n",
    "\n",
    "loader = Instaloader()\n",
    "\n",
    "profile = Profile.from_username(loader.context, 'festivalsudoeste')\n",
    "\n",
    "num_followers = profile.followers\n",
    "\n",
    "print(f\"The account '{profile.username}' has {num_followers} followers.\")"
   ]
  },
  {
   "cell_type": "code",
   "execution_count": 21,
   "id": "99c0dc97",
   "metadata": {},
   "outputs": [
    {
     "name": "stdout",
     "output_type": "stream",
     "text": [
      "The account 'superbocksuperrock' has 78827 followers.\n"
     ]
    }
   ],
   "source": [
    "from instaloader import Instaloader, Profile\n",
    "\n",
    "loader = Instaloader()\n",
    "\n",
    "profile = Profile.from_username(loader.context, 'superbocksuperrock')\n",
    "\n",
    "num_followers = profile.followers\n",
    "\n",
    "print(f\"The account '{profile.username}' has {num_followers} followers.\")"
   ]
  },
  {
   "cell_type": "code",
   "execution_count": 22,
   "id": "9b3cdd8d",
   "metadata": {},
   "outputs": [
    {
     "name": "stdout",
     "output_type": "stream",
     "text": [
      "The account 'vodafoneparedesdecoura' has 54479 followers.\n"
     ]
    }
   ],
   "source": [
    "from instaloader import Instaloader, Profile\n",
    "\n",
    "loader = Instaloader()\n",
    "\n",
    "profile = Profile.from_username(loader.context, 'vodafoneparedesdecoura')\n",
    "\n",
    "num_followers = profile.followers\n",
    "\n",
    "print(f\"The account '{profile.username}' has {num_followers} followers.\")"
   ]
  },
  {
   "cell_type": "code",
   "execution_count": null,
   "id": "7297d9be",
   "metadata": {},
   "outputs": [],
   "source": [
    "# Creation of a dataframe with the followers count for Instagram with the columns 'Festival' and 'Followers'\n",
    "# and saving it to a CSV file\n",
    "\n",
    "import pandas as pd\n",
    "\n",
    "data = [\n",
    "    {\"Festival\": \"NOS Alive\", \"Followers\": 161465},\n",
    "    {\"Festival\": \"Rock in Rio\", \"Followers\": 228032},\n",
    "    {\"Festival\": \"MEO Sudoeste\", \"Followers\": 98180},\n",
    "    {\"Festival\": \"Super Bock Super Rock\", \"Followers\": 78835},\n",
    "    {\"Festival\": \"Vodafone Paredes de Coura\", \"Followers\": 54439}\n",
    "]\n",
    "\n",
    "df = pd.DataFrame(data)\n",
    "\n",
    "df.to_csv('festivals_instagram_followers.csv', index=False)"
   ]
  },
  {
   "cell_type": "code",
   "execution_count": null,
   "id": "3cf08fe8",
   "metadata": {},
   "outputs": [],
   "source": [
    "# Creation of a dataframe with the followers count for Twitter with the columns 'Festival' and 'Followers'\n",
    "# and saving it to a CSV file\n",
    "\n",
    "import pandas as pd\n",
    "\n",
    "data = [ \n",
    "    {\"Festival\": \"NOS Alive\", \"Followers\": 47487},\n",
    "    {\"Festival\": \"Rock in Rio\", \"Followers\": 369005},\n",
    "    {\"Festival\": \"MEO Sudoeste\", \"Followers\": 305863},\n",
    "    {\"Festival\": \"Super Bock Super Rock\", \"Followers\": 12849},\n",
    "    {\"Festival\": \"Vodafone Paredes de Coura\", \"Followers\": 786}\n",
    "]\n",
    "\n",
    "df = pd.DataFrame(data)\n",
    "\n",
    "df.to_csv('festivals_twitter_followers.csv', index=False)"
   ]
  }
 ],
 "metadata": {
  "kernelspec": {
   "display_name": "Python 3 (ipykernel)",
   "language": "python",
   "name": "python3"
  },
  "language_info": {
   "codemirror_mode": {
    "name": "ipython",
    "version": 3
   },
   "file_extension": ".py",
   "mimetype": "text/x-python",
   "name": "python",
   "nbconvert_exporter": "python",
   "pygments_lexer": "ipython3",
   "version": "3.11.5"
  }
 },
 "nbformat": 4,
 "nbformat_minor": 5
}
