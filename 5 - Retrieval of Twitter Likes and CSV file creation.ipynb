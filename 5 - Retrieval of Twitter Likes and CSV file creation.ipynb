{
 "cells": [
  {
   "cell_type": "code",
   "execution_count": 1,
   "id": "3f705927",
   "metadata": {},
   "outputs": [
    {
     "name": "stdout",
     "output_type": "stream",
     "text": [
      "Total likes of NOS Alive: 631\n"
     ]
    }
   ],
   "source": [
    "import requests\n",
    "url = \"https://twitter154.p.rapidapi.com/user/tweets\"\n",
    "user_id = \"23446053\"  \n",
    "start_date = \"2023-12-16\"\n",
    "end_date = \"2024-04-16\" \n",
    "querystring = {\n",
    "    \"user_id\": user_id,\n",
    "    \"start_date\": start_date,\n",
    "    \"end_date\": end_date\n",
    "}\n",
    "headers = {\n",
    "    \"X-RapidAPI-Key\": \"b7e19179eamsha2492722ac04791p1b4d92jsn3e8bed6600eb\",\n",
    "    \"X-RapidAPI-Host\": \"twitter154.p.rapidapi.com\"\n",
    "}\n",
    "response = requests.get(url, headers=headers, params=querystring)\n",
    "tweets_data = response.json()\n",
    "if 'results' in tweets_data:\n",
    "    total_likes_Alive = 0\n",
    "    for tweet in tweets_data['results']:\n",
    "        total_likes_Alive += int(tweet.get('favorite_count', 0))\n",
    "    print(\"Total likes of NOS Alive:\", total_likes_Alive)\n",
    "else:\n",
    "    print(\"No tweets found in the response.\")"
   ]
  },
  {
   "cell_type": "code",
   "execution_count": 8,
   "id": "f48b57cc",
   "metadata": {},
   "outputs": [
    {
     "name": "stdout",
     "output_type": "stream",
     "text": [
      "Total likes of Rock in Rio: 1350\n"
     ]
    }
   ],
   "source": [
    "import requests\n",
    "url = \"https://twitter154.p.rapidapi.com/user/tweets\"\n",
    "user_id = \"41878061\"  \n",
    "start_date = \"2023-12-16\"\n",
    "end_date = \"2024-04-16\" \n",
    "querystring = {\n",
    "    \"user_id\": user_id,\n",
    "    \"start_date\": start_date,\n",
    "    \"end_date\": end_date\n",
    "}\n",
    "headers = {\n",
    "    \"X-RapidAPI-Key\": \"b7e19179eamsha2492722ac04791p1b4d92jsn3e8bed6600eb\",\n",
    "    \"X-RapidAPI-Host\": \"twitter154.p.rapidapi.com\"\n",
    "}\n",
    "response = requests.get(url, headers=headers, params=querystring)\n",
    "tweets_data = response.json()\n",
    "if 'results' in tweets_data:\n",
    "    total_likes_RIR = 0\n",
    "    for tweet in tweets_data['results']:\n",
    "        total_likes_RIR += int(tweet.get('favorite_count', 0))\n",
    "    print(\"Total likes of Rock in Rio:\", total_likes_RIR)\n",
    "else:\n",
    "    print(\"No tweets found in the response.\")"
   ]
  },
  {
   "cell_type": "code",
   "execution_count": 9,
   "id": "d3441b93",
   "metadata": {},
   "outputs": [
    {
     "name": "stdout",
     "output_type": "stream",
     "text": [
      "Total likes of MEO Sudoeste: 1909\n"
     ]
    }
   ],
   "source": [
    "import requests\n",
    "url = \"https://twitter154.p.rapidapi.com/user/tweets\"\n",
    "user_id = \"22827600\"  \n",
    "start_date = \"2023-12-16\"\n",
    "end_date = \"2024-04-16\" \n",
    "querystring = {\n",
    "    \"user_id\": user_id,\n",
    "    \"start_date\": start_date,\n",
    "    \"end_date\": end_date\n",
    "}\n",
    "headers = {\n",
    "    \"X-RapidAPI-Key\": \"b7e19179eamsha2492722ac04791p1b4d92jsn3e8bed6600eb\",\n",
    "    \"X-RapidAPI-Host\": \"twitter154.p.rapidapi.com\"\n",
    "}\n",
    "response = requests.get(url, headers=headers, params=querystring)\n",
    "tweets_data = response.json()\n",
    "if 'results' in tweets_data:\n",
    "    total_likes_Sudoeste = 0\n",
    "    for tweet in tweets_data['results']:\n",
    "        total_likes_Sudoeste += int(tweet.get('favorite_count', 0))\n",
    "    print(\"Total likes of MEO Sudoeste:\", total_likes_Sudoeste)\n",
    "else:\n",
    "    print(\"No tweets found in the response.\")"
   ]
  },
  {
   "cell_type": "code",
   "execution_count": 10,
   "id": "80634552",
   "metadata": {},
   "outputs": [
    {
     "name": "stdout",
     "output_type": "stream",
     "text": [
      "Total likes of Super Bock Super Rock: 255\n"
     ]
    }
   ],
   "source": [
    "import requests\n",
    "url = \"https://twitter154.p.rapidapi.com/user/tweets\"\n",
    "user_id = \"1286063538\"  \n",
    "start_date = \"2023-12-16\"\n",
    "end_date = \"2024-04-16\" \n",
    "querystring = {\n",
    "    \"user_id\": user_id,\n",
    "    \"start_date\": start_date,\n",
    "    \"end_date\": end_date\n",
    "}\n",
    "headers = {\n",
    "    \"X-RapidAPI-Key\": \"b7e19179eamsha2492722ac04791p1b4d92jsn3e8bed6600eb\",\n",
    "    \"X-RapidAPI-Host\": \"twitter154.p.rapidapi.com\"\n",
    "}\n",
    "response = requests.get(url, headers=headers, params=querystring)\n",
    "tweets_data = response.json()\n",
    "if 'results' in tweets_data:\n",
    "    total_likes_SBSR = 0\n",
    "    for tweet in tweets_data['results']:\n",
    "        total_likes_SBSR += int(tweet.get('favorite_count', 0))\n",
    "    print(\"Total likes of Super Bock Super Rock:\", total_likes_SBSR)\n",
    "else:\n",
    "    print(\"No tweets found in the response.\")"
   ]
  },
  {
   "cell_type": "code",
   "execution_count": 1,
   "id": "01406ed1",
   "metadata": {},
   "outputs": [
    {
     "name": "stdout",
     "output_type": "stream",
     "text": [
      "Total likes of Vodafone Paredes de Coura: 75\n"
     ]
    }
   ],
   "source": [
    "import requests\n",
    "url = \"https://twitter154.p.rapidapi.com/user/tweets\"\n",
    "user_id = \"1154891895413383168\"  \n",
    "start_date = \"2023-12-16\"\n",
    "end_date = \"2024-04-16\" \n",
    "querystring = {\n",
    "    \"user_id\": user_id,\n",
    "    \"start_date\": start_date,\n",
    "    \"end_date\": end_date\n",
    "}\n",
    "headers = {\n",
    "    \"X-RapidAPI-Key\": \"b7e19179eamsha2492722ac04791p1b4d92jsn3e8bed6600eb\",\n",
    "    \"X-RapidAPI-Host\": \"twitter154.p.rapidapi.com\"\n",
    "}\n",
    "response = requests.get(url, headers=headers, params=querystring)\n",
    "tweets_data = response.json()\n",
    "if 'results' in tweets_data:\n",
    "    total_likes_VPDC = 0\n",
    "    for tweet in tweets_data['results']:\n",
    "        total_likes_VPDC += int(tweet.get('favorite_count', 0))\n",
    "    print(\"Total likes of Vodafone Paredes de Coura:\", total_likes_VPDC)\n",
    "else:\n",
    "    print(\"No tweets found in the response.\")"
   ]
  },
  {
   "cell_type": "code",
   "execution_count": 1,
   "id": "d420dbe1",
   "metadata": {},
   "outputs": [],
   "source": [
    "import csv\n",
    "\n",
    "# Festival names and total likes\n",
    "festivals = [\n",
    "    (\"NOS Alive\", 565),\n",
    "    (\"Rock in Rio\", 1350),\n",
    "    (\"MEO Sudoeste\", 1909),\n",
    "    (\"Super Bock Super Rock\", 255),\n",
    "    (\"Vodafone Paredes de Coura\", 75)\n",
    "]\n",
    "\n",
    "# Specify the filename\n",
    "filename = \"festivals_twitter_likes.csv\"\n",
    "\n",
    "# Write the data to the CSV file\n",
    "with open(filename, \"w\", newline=\"\") as csvfile:\n",
    "    writer = csv.writer(csvfile)\n",
    "    writer.writerow([\"Festival\", \"Likes\"])\n",
    "    writer.writerows(festivals)"
   ]
  },
  {
   "cell_type": "code",
   "execution_count": null,
   "id": "cbc3f4ca",
   "metadata": {},
   "outputs": [],
   "source": []
  }
 ],
 "metadata": {
  "kernelspec": {
   "display_name": "Python 3 (ipykernel)",
   "language": "python",
   "name": "python3"
  },
  "language_info": {
   "codemirror_mode": {
    "name": "ipython",
    "version": 3
   },
   "file_extension": ".py",
   "mimetype": "text/x-python",
   "name": "python",
   "nbconvert_exporter": "python",
   "pygments_lexer": "ipython3",
   "version": "3.11.5"
  }
 },
 "nbformat": 4,
 "nbformat_minor": 5
}
