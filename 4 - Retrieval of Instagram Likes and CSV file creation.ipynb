{
 "cells": [
  {
   "cell_type": "code",
   "execution_count": 3,
   "id": "206841d3-4b31-42e4-8db2-f67ecca50f2c",
   "metadata": {},
   "outputs": [
    {
     "name": "stdout",
     "output_type": "stream",
     "text": [
      "Total likes of NOS Alive within the specified time period: 89884\n"
     ]
    }
   ],
   "source": [
    "# Using InstaLoader to retrieve the total number of likes of NOS Alive from 16-12-2023 to 16-04-2024\n",
    "\n",
    "import instaloader\n",
    "from datetime import datetime\n",
    "def fetch_likes_in_period(profile_username, start_date, end_date):\n",
    "    L = instaloader.Instaloader()\n",
    "    profile = instaloader.Profile.from_username(L.context, profile_username)\n",
    "    likes_in_period = 0\n",
    "    for post in profile.get_posts():\n",
    "        if start_date <= post.date <= end_date:\n",
    "            likes_in_period += post.likes\n",
    "    return likes_in_period\n",
    "profile_username = 'nos_alive'\n",
    "start_date = datetime(2023, 12, 16)\n",
    "end_date = datetime(2024, 4, 16)\n",
    "likes_in_period = fetch_likes_in_period(profile_username, start_date, end_date)\n",
    "print(\"Total likes of NOS Alive within the specified time period:\", likes_in_period)"
   ]
  },
  {
   "cell_type": "code",
   "execution_count": 2,
   "id": "1f719fa9-6a68-40d5-85c9-9d3d2542e006",
   "metadata": {},
   "outputs": [
    {
     "name": "stdout",
     "output_type": "stream",
     "text": [
      "Total likes of Rock in Rio within the specified time period: 576742\n"
     ]
    }
   ],
   "source": [
    "# Using InstaLoader to retrive the total number of likes of Rock in Rio from 16-12-2023 to 16-04-2024\n",
    "\n",
    "import instaloader\n",
    "from datetime import datetime\n",
    "def fetch_likes_in_period(profile_username, start_date, end_date):\n",
    "    L = instaloader.Instaloader()\n",
    "    profile = instaloader.Profile.from_username(L.context, profile_username)\n",
    "    likes_in_period = 0\n",
    "    for post in profile.get_posts():\n",
    "        if start_date <= post.date <= end_date:\n",
    "            likes_in_period += post.likes\n",
    "    return likes_in_period\n",
    "profile_username = 'rockinriolisboa'\n",
    "start_date = datetime(2023, 12, 16)\n",
    "end_date = datetime(2024, 4, 16)\n",
    "likes_in_period = fetch_likes_in_period(profile_username, start_date, end_date)\n",
    "print(\"Total likes of Rock in Rio within the specified time period:\", likes_in_period)"
   ]
  },
  {
   "cell_type": "code",
   "execution_count": 1,
   "id": "ae1222db-956d-49ee-b499-8b54dfe889d9",
   "metadata": {},
   "outputs": [
    {
     "name": "stdout",
     "output_type": "stream",
     "text": [
      "Total likes of MEO Sudoeste within the specified time period: 126286\n"
     ]
    }
   ],
   "source": [
    "# Using InstaLoader to retrive the total number of likes of MEO Sudoeste from 16-12-2023 to 16-04-2024\n",
    "\n",
    "import instaloader\n",
    "from datetime import datetime\n",
    "def fetch_likes_in_period(profile_username, start_date, end_date):\n",
    "    L = instaloader.Instaloader()\n",
    "    profile = instaloader.Profile.from_username(L.context, profile_username)\n",
    "    likes_in_period = 0\n",
    "    for post in profile.get_posts():\n",
    "        if start_date <= post.date <= end_date:\n",
    "            likes_in_period += post.likes\n",
    "    return likes_in_period\n",
    "profile_username = 'festivalsudoeste'\n",
    "start_date = datetime(2023, 12, 16)\n",
    "end_date = datetime(2024, 4, 16)\n",
    "likes_in_period = fetch_likes_in_period(profile_username, start_date, end_date)\n",
    "print(\"Total likes of MEO Sudoeste within the specified time period:\", likes_in_period)"
   ]
  },
  {
   "cell_type": "code",
   "execution_count": 2,
   "id": "9f02d5a2-d1ca-4769-9309-e6986eb64278",
   "metadata": {},
   "outputs": [
    {
     "name": "stdout",
     "output_type": "stream",
     "text": [
      "Total likes of Super Bock Super Rock within the specified time period: 73286\n"
     ]
    }
   ],
   "source": [
    "# Using InstaLoader to retrive the total number of likes of Super Bock Super Rock from 16-12-2023 to 16-04-2024\n",
    "\n",
    "import instaloader\n",
    "from datetime import datetime\n",
    "def fetch_likes_in_period(profile_username, start_date, end_date):\n",
    "    L = instaloader.Instaloader()\n",
    "    profile = instaloader.Profile.from_username(L.context, profile_username)\n",
    "    likes_in_period = 0\n",
    "    for post in profile.get_posts():\n",
    "        if start_date <= post.date <= end_date:\n",
    "            likes_in_period += post.likes\n",
    "    return likes_in_period\n",
    "profile_username = 'superbocksuperrock'\n",
    "start_date = datetime(2023, 12, 16)\n",
    "end_date = datetime(2024, 4, 16)\n",
    "likes_in_period = fetch_likes_in_period(profile_username, start_date, end_date)\n",
    "print(\"Total likes of Super Bock Super Rock within the specified time period:\", likes_in_period)"
   ]
  },
  {
   "cell_type": "code",
   "execution_count": 3,
   "id": "171a7b6c-48c9-4656-95df-e56e384830fa",
   "metadata": {},
   "outputs": [
    {
     "name": "stdout",
     "output_type": "stream",
     "text": [
      "Total likes of Vodafone Paredes de Coura within the specified time period: 63434\n"
     ]
    }
   ],
   "source": [
    "# Using InstaLoader to retrive the total number of likes of Vodafone Paredes de Coura from 16-12-2023 to 16-04-2024\n",
    "\n",
    "import instaloader\n",
    "from datetime import datetime\n",
    "def fetch_likes_in_period(profile_username, start_date, end_date):\n",
    "    L = instaloader.Instaloader()\n",
    "    profile = instaloader.Profile.from_username(L.context, profile_username)\n",
    "    likes_in_period = 0\n",
    "    for post in profile.get_posts():\n",
    "        if start_date <= post.date <= end_date:\n",
    "            likes_in_period += post.likes\n",
    "    return likes_in_period\n",
    "profile_username = 'vodafoneparedesdecoura'\n",
    "start_date = datetime(2023, 12, 16)\n",
    "end_date = datetime(2024, 4, 16)\n",
    "likes_in_period = fetch_likes_in_period(profile_username, start_date, end_date)\n",
    "print(\"Total likes of Vodafone Paredes de Coura within the specified time period:\", likes_in_period)"
   ]
  },
  {
   "cell_type": "code",
   "execution_count": 4,
   "id": "bbeba8fe-8f71-4c53-af75-be66185f1790",
   "metadata": {},
   "outputs": [],
   "source": [
    "# Save the data to a CSV file named festivals_instagram_likes.csv\n",
    "\n",
    "import csv\n",
    "\n",
    "# Festival names and total likes\n",
    "festivals_likes = [\n",
    "    (\"NOS Alive\", 89526),\n",
    "    (\"Rock in Rio\", 576742),\n",
    "    (\"MEO Sudoeste\", 126286),\n",
    "    (\"Super Bock Super Rock\", 73286),\n",
    "    (\"Vodafone Paredes de Coura\", 63434)\n",
    "]\n",
    "\n",
    "# Write the data to a CSV file\n",
    "with open('festivals_instagram_likes.csv', 'w', newline='') as file:\n",
    "    writer = csv.writer(file)\n",
    "    writer.writerow(['Festival', 'Likes'])  # Write the header\n",
    "    writer.writerows(festivals_likes)  # Write the festival data"
   ]
  },
  {
   "cell_type": "code",
   "execution_count": null,
   "id": "dfb128ad",
   "metadata": {},
   "outputs": [],
   "source": []
  }
 ],
 "metadata": {
  "kernelspec": {
   "display_name": "Python 3 (ipykernel)",
   "language": "python",
   "name": "python3"
  },
  "language_info": {
   "codemirror_mode": {
    "name": "ipython",
    "version": 3
   },
   "file_extension": ".py",
   "mimetype": "text/x-python",
   "name": "python",
   "nbconvert_exporter": "python",
   "pygments_lexer": "ipython3",
   "version": "3.11.5"
  }
 },
 "nbformat": 4,
 "nbformat_minor": 5
}
